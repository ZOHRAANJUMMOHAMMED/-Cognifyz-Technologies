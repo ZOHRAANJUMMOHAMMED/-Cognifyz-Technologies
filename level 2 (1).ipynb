{
 "cells": [
  {
   "cell_type": "code",
   "execution_count": null,
   "id": "ac2a6394-d5ce-4513-a998-a9f32d2731b2",
   "metadata": {},
   "outputs": [],
   "source": [
    "#LEVEL 2-TASK 1:Restaurant Ratings"
   ]
  },
  {
   "cell_type": "code",
   "execution_count": 1,
   "id": "208e71c8-995e-497e-ac25-d1a0b025e724",
   "metadata": {},
   "outputs": [],
   "source": [
    "# Loading the dataset\n",
    "import pandas as pd\n",
    "data = pd.read_csv(r\"C:\\Users\\moham\\Downloads\\Dataset .csv\")  "
   ]
  },
  {
   "cell_type": "code",
   "execution_count": 2,
   "id": "a7376b81-c4e1-47ee-b169-3ab1245c263e",
   "metadata": {},
   "outputs": [
    {
     "name": "stdout",
     "output_type": "stream",
     "text": [
      "<bound method NDFrame.head of       Restaurant ID           Restaurant Name  Country Code              City  \\\n",
      "0           6317637          Le Petit Souffle           162       Makati City   \n",
      "1           6304287          Izakaya Kikufuji           162       Makati City   \n",
      "2           6300002    Heat - Edsa Shangri-La           162  Mandaluyong City   \n",
      "3           6318506                      Ooma           162  Mandaluyong City   \n",
      "4           6314302               Sambo Kojin           162  Mandaluyong City   \n",
      "...             ...                       ...           ...               ...   \n",
      "9546        5915730               Naml۱ Gurme           208         ��stanbul   \n",
      "9547        5908749              Ceviz A��ac۱           208         ��stanbul   \n",
      "9548        5915807                     Huqqa           208         ��stanbul   \n",
      "9549        5916112               A���k Kahve           208         ��stanbul   \n",
      "9550        5927402  Walter's Coffee Roastery           208         ��stanbul   \n",
      "\n",
      "                                                Address  \\\n",
      "0     Third Floor, Century City Mall, Kalayaan Avenu...   \n",
      "1     Little Tokyo, 2277 Chino Roces Avenue, Legaspi...   \n",
      "2     Edsa Shangri-La, 1 Garden Way, Ortigas, Mandal...   \n",
      "3     Third Floor, Mega Fashion Hall, SM Megamall, O...   \n",
      "4     Third Floor, Mega Atrium, SM Megamall, Ortigas...   \n",
      "...                                                 ...   \n",
      "9546  Kemanke�� Karamustafa Pa��a Mahallesi, R۱ht۱m ...   \n",
      "9547  Ko��uyolu Mahallesi, Muhittin ��st�_nda�� Cadd...   \n",
      "9548  Kuru�_e��me Mahallesi, Muallim Naci Caddesi, N...   \n",
      "9549  Kuru�_e��me Mahallesi, Muallim Naci Caddesi, N...   \n",
      "9550  Cafea��a Mahallesi, Bademalt۱ Sokak, No 21/B, ...   \n",
      "\n",
      "                                        Locality  \\\n",
      "0      Century City Mall, Poblacion, Makati City   \n",
      "1     Little Tokyo, Legaspi Village, Makati City   \n",
      "2     Edsa Shangri-La, Ortigas, Mandaluyong City   \n",
      "3         SM Megamall, Ortigas, Mandaluyong City   \n",
      "4         SM Megamall, Ortigas, Mandaluyong City   \n",
      "...                                          ...   \n",
      "9546                                    Karak�_y   \n",
      "9547                                   Ko��uyolu   \n",
      "9548                                 Kuru�_e��me   \n",
      "9549                                 Kuru�_e��me   \n",
      "9550                                        Moda   \n",
      "\n",
      "                                       Locality Verbose   Longitude  \\\n",
      "0     Century City Mall, Poblacion, Makati City, Mak...  121.027535   \n",
      "1     Little Tokyo, Legaspi Village, Makati City, Ma...  121.014101   \n",
      "2     Edsa Shangri-La, Ortigas, Mandaluyong City, Ma...  121.056831   \n",
      "3     SM Megamall, Ortigas, Mandaluyong City, Mandal...  121.056475   \n",
      "4     SM Megamall, Ortigas, Mandaluyong City, Mandal...  121.057508   \n",
      "...                                                 ...         ...   \n",
      "9546                                Karak�_y, ��stanbul   28.977392   \n",
      "9547                               Ko��uyolu, ��stanbul   29.041297   \n",
      "9548                             Kuru�_e��me, ��stanbul   29.034640   \n",
      "9549                             Kuru�_e��me, ��stanbul   29.036019   \n",
      "9550                                    Moda, ��stanbul   29.026016   \n",
      "\n",
      "       Latitude                          Cuisines  ...          Currency  \\\n",
      "0     14.565443        French, Japanese, Desserts  ...  Botswana Pula(P)   \n",
      "1     14.553708                          Japanese  ...  Botswana Pula(P)   \n",
      "2     14.581404  Seafood, Asian, Filipino, Indian  ...  Botswana Pula(P)   \n",
      "3     14.585318                   Japanese, Sushi  ...  Botswana Pula(P)   \n",
      "4     14.584450                  Japanese, Korean  ...  Botswana Pula(P)   \n",
      "...         ...                               ...  ...               ...   \n",
      "9546  41.022793                           Turkish  ...  Turkish Lira(TL)   \n",
      "9547  41.009847   World Cuisine, Patisserie, Cafe  ...  Turkish Lira(TL)   \n",
      "9548  41.055817            Italian, World Cuisine  ...  Turkish Lira(TL)   \n",
      "9549  41.057979                   Restaurant Cafe  ...  Turkish Lira(TL)   \n",
      "9550  40.984776                              Cafe  ...  Turkish Lira(TL)   \n",
      "\n",
      "     Has Table booking Has Online delivery Is delivering now  \\\n",
      "0                  Yes                  No                No   \n",
      "1                  Yes                  No                No   \n",
      "2                  Yes                  No                No   \n",
      "3                   No                  No                No   \n",
      "4                  Yes                  No                No   \n",
      "...                ...                 ...               ...   \n",
      "9546                No                  No                No   \n",
      "9547                No                  No                No   \n",
      "9548                No                  No                No   \n",
      "9549                No                  No                No   \n",
      "9550                No                  No                No   \n",
      "\n",
      "     Switch to order menu Price range  Aggregate rating  Rating color  \\\n",
      "0                      No           3               4.8    Dark Green   \n",
      "1                      No           3               4.5    Dark Green   \n",
      "2                      No           4               4.4         Green   \n",
      "3                      No           4               4.9    Dark Green   \n",
      "4                      No           4               4.8    Dark Green   \n",
      "...                   ...         ...               ...           ...   \n",
      "9546                   No           3               4.1         Green   \n",
      "9547                   No           3               4.2         Green   \n",
      "9548                   No           4               3.7        Yellow   \n",
      "9549                   No           4               4.0         Green   \n",
      "9550                   No           2               4.0         Green   \n",
      "\n",
      "     Rating text Votes  \n",
      "0      Excellent   314  \n",
      "1      Excellent   591  \n",
      "2      Very Good   270  \n",
      "3      Excellent   365  \n",
      "4      Excellent   229  \n",
      "...          ...   ...  \n",
      "9546   Very Good   788  \n",
      "9547   Very Good  1034  \n",
      "9548        Good   661  \n",
      "9549   Very Good   901  \n",
      "9550   Very Good   591  \n",
      "\n",
      "[9551 rows x 21 columns]>\n"
     ]
    }
   ],
   "source": [
    "print(data.head)"
   ]
  },
  {
   "cell_type": "code",
   "execution_count": 5,
   "id": "7a5b7cf2-b0d2-4a82-b4c6-2cdfbd6cedfa",
   "metadata": {},
   "outputs": [
    {
     "name": "stdout",
     "output_type": "stream",
     "text": [
      "<bound method NDFrame.tail of       Restaurant ID           Restaurant Name  Country Code              City  \\\n",
      "0           6317637          Le Petit Souffle           162       Makati City   \n",
      "1           6304287          Izakaya Kikufuji           162       Makati City   \n",
      "2           6300002    Heat - Edsa Shangri-La           162  Mandaluyong City   \n",
      "3           6318506                      Ooma           162  Mandaluyong City   \n",
      "4           6314302               Sambo Kojin           162  Mandaluyong City   \n",
      "...             ...                       ...           ...               ...   \n",
      "9546        5915730               Naml۱ Gurme           208         ��stanbul   \n",
      "9547        5908749              Ceviz A��ac۱           208         ��stanbul   \n",
      "9548        5915807                     Huqqa           208         ��stanbul   \n",
      "9549        5916112               A���k Kahve           208         ��stanbul   \n",
      "9550        5927402  Walter's Coffee Roastery           208         ��stanbul   \n",
      "\n",
      "                                                Address  \\\n",
      "0     Third Floor, Century City Mall, Kalayaan Avenu...   \n",
      "1     Little Tokyo, 2277 Chino Roces Avenue, Legaspi...   \n",
      "2     Edsa Shangri-La, 1 Garden Way, Ortigas, Mandal...   \n",
      "3     Third Floor, Mega Fashion Hall, SM Megamall, O...   \n",
      "4     Third Floor, Mega Atrium, SM Megamall, Ortigas...   \n",
      "...                                                 ...   \n",
      "9546  Kemanke�� Karamustafa Pa��a Mahallesi, R۱ht۱m ...   \n",
      "9547  Ko��uyolu Mahallesi, Muhittin ��st�_nda�� Cadd...   \n",
      "9548  Kuru�_e��me Mahallesi, Muallim Naci Caddesi, N...   \n",
      "9549  Kuru�_e��me Mahallesi, Muallim Naci Caddesi, N...   \n",
      "9550  Cafea��a Mahallesi, Bademalt۱ Sokak, No 21/B, ...   \n",
      "\n",
      "                                        Locality  \\\n",
      "0      Century City Mall, Poblacion, Makati City   \n",
      "1     Little Tokyo, Legaspi Village, Makati City   \n",
      "2     Edsa Shangri-La, Ortigas, Mandaluyong City   \n",
      "3         SM Megamall, Ortigas, Mandaluyong City   \n",
      "4         SM Megamall, Ortigas, Mandaluyong City   \n",
      "...                                          ...   \n",
      "9546                                    Karak�_y   \n",
      "9547                                   Ko��uyolu   \n",
      "9548                                 Kuru�_e��me   \n",
      "9549                                 Kuru�_e��me   \n",
      "9550                                        Moda   \n",
      "\n",
      "                                       Locality Verbose   Longitude  \\\n",
      "0     Century City Mall, Poblacion, Makati City, Mak...  121.027535   \n",
      "1     Little Tokyo, Legaspi Village, Makati City, Ma...  121.014101   \n",
      "2     Edsa Shangri-La, Ortigas, Mandaluyong City, Ma...  121.056831   \n",
      "3     SM Megamall, Ortigas, Mandaluyong City, Mandal...  121.056475   \n",
      "4     SM Megamall, Ortigas, Mandaluyong City, Mandal...  121.057508   \n",
      "...                                                 ...         ...   \n",
      "9546                                Karak�_y, ��stanbul   28.977392   \n",
      "9547                               Ko��uyolu, ��stanbul   29.041297   \n",
      "9548                             Kuru�_e��me, ��stanbul   29.034640   \n",
      "9549                             Kuru�_e��me, ��stanbul   29.036019   \n",
      "9550                                    Moda, ��stanbul   29.026016   \n",
      "\n",
      "       Latitude                          Cuisines  ...          Currency  \\\n",
      "0     14.565443        French, Japanese, Desserts  ...  Botswana Pula(P)   \n",
      "1     14.553708                          Japanese  ...  Botswana Pula(P)   \n",
      "2     14.581404  Seafood, Asian, Filipino, Indian  ...  Botswana Pula(P)   \n",
      "3     14.585318                   Japanese, Sushi  ...  Botswana Pula(P)   \n",
      "4     14.584450                  Japanese, Korean  ...  Botswana Pula(P)   \n",
      "...         ...                               ...  ...               ...   \n",
      "9546  41.022793                           Turkish  ...  Turkish Lira(TL)   \n",
      "9547  41.009847   World Cuisine, Patisserie, Cafe  ...  Turkish Lira(TL)   \n",
      "9548  41.055817            Italian, World Cuisine  ...  Turkish Lira(TL)   \n",
      "9549  41.057979                   Restaurant Cafe  ...  Turkish Lira(TL)   \n",
      "9550  40.984776                              Cafe  ...  Turkish Lira(TL)   \n",
      "\n",
      "     Has Table booking Has Online delivery Is delivering now  \\\n",
      "0                  Yes                  No                No   \n",
      "1                  Yes                  No                No   \n",
      "2                  Yes                  No                No   \n",
      "3                   No                  No                No   \n",
      "4                  Yes                  No                No   \n",
      "...                ...                 ...               ...   \n",
      "9546                No                  No                No   \n",
      "9547                No                  No                No   \n",
      "9548                No                  No                No   \n",
      "9549                No                  No                No   \n",
      "9550                No                  No                No   \n",
      "\n",
      "     Switch to order menu Price range  Aggregate rating  Rating color  \\\n",
      "0                      No           3               4.8    Dark Green   \n",
      "1                      No           3               4.5    Dark Green   \n",
      "2                      No           4               4.4         Green   \n",
      "3                      No           4               4.9    Dark Green   \n",
      "4                      No           4               4.8    Dark Green   \n",
      "...                   ...         ...               ...           ...   \n",
      "9546                   No           3               4.1         Green   \n",
      "9547                   No           3               4.2         Green   \n",
      "9548                   No           4               3.7        Yellow   \n",
      "9549                   No           4               4.0         Green   \n",
      "9550                   No           2               4.0         Green   \n",
      "\n",
      "     Rating text Votes  \n",
      "0      Excellent   314  \n",
      "1      Excellent   591  \n",
      "2      Very Good   270  \n",
      "3      Excellent   365  \n",
      "4      Excellent   229  \n",
      "...          ...   ...  \n",
      "9546   Very Good   788  \n",
      "9547   Very Good  1034  \n",
      "9548        Good   661  \n",
      "9549   Very Good   901  \n",
      "9550   Very Good   591  \n",
      "\n",
      "[9551 rows x 21 columns]>\n"
     ]
    }
   ],
   "source": [
    "print(data.tail)\n",
    "#bottom five "
   ]
  },
  {
   "cell_type": "code",
   "execution_count": null,
   "id": "8a95dc8f-7446-41e1-a694-860be42e6307",
   "metadata": {},
   "outputs": [],
   "source": [
    "#Analyze the distribution of aggregate ratings "
   ]
  },
  {
   "cell_type": "code",
   "execution_count": 6,
   "id": "16514978-b132-44d3-8817-cb5cbd5899aa",
   "metadata": {},
   "outputs": [
    {
     "name": "stdout",
     "output_type": "stream",
     "text": [
      "Aggregate rating\n",
      "0.0    2148\n",
      "3.2     522\n",
      "3.1     519\n",
      "3.4     498\n",
      "3.3     483\n",
      "3.5     480\n",
      "3.0     468\n",
      "3.6     458\n",
      "3.7     427\n",
      "3.8     400\n",
      "2.9     381\n",
      "3.9     335\n",
      "2.8     315\n",
      "4.1     274\n",
      "4.0     266\n",
      "2.7     250\n",
      "4.2     221\n",
      "2.6     191\n",
      "4.3     174\n",
      "4.4     144\n",
      "2.5     110\n",
      "4.5      95\n",
      "2.4      87\n",
      "4.6      78\n",
      "4.9      61\n",
      "2.3      47\n",
      "4.7      42\n",
      "2.2      27\n",
      "4.8      25\n",
      "2.1      15\n",
      "2.0       7\n",
      "1.9       2\n",
      "1.8       1\n",
      "Name: count, dtype: int64\n"
     ]
    }
   ],
   "source": [
    "rating_distri = data['Aggregate rating'].value_counts()\n",
    "print(rating_distri)"
   ]
  },
  {
   "cell_type": "code",
   "execution_count": null,
   "id": "1aa29be4-2dbc-4a31-8267-9b782cacd59f",
   "metadata": {},
   "outputs": [],
   "source": [
    "#determine the most common rating range"
   ]
  },
  {
   "cell_type": "code",
   "execution_count": 8,
   "id": "7999589d-0649-4e08-902a-8007a585baee",
   "metadata": {},
   "outputs": [
    {
     "name": "stdout",
     "output_type": "stream",
     "text": [
      "Most common rating: 0.0\n"
     ]
    }
   ],
   "source": [
    "most_common_rating = rating_distri.idxmax()\n",
    "print(f\"Most common rating: {most_common_rating}\")"
   ]
  },
  {
   "cell_type": "code",
   "execution_count": null,
   "id": "943269d6-45fc-4706-a24c-d59e66c261aa",
   "metadata": {},
   "outputs": [],
   "source": [
    "#The average number of votes received by restaurants."
   ]
  },
  {
   "cell_type": "code",
   "execution_count": 12,
   "id": "74718cb7-6f2b-4612-b699-a8088d0ca14f",
   "metadata": {},
   "outputs": [
    {
     "name": "stdout",
     "output_type": "stream",
     "text": [
      "Average number of votes: 156.909747670401\n"
     ]
    }
   ],
   "source": [
    "average_votes = data['Votes'].mean()\n",
    "print(f\"Average number of votes: {average_votes:}\")"
   ]
  },
  {
   "cell_type": "code",
   "execution_count": null,
   "id": "ef368c1c-b40a-433c-bb4a-4f21694c659c",
   "metadata": {},
   "outputs": [],
   "source": [
    "#LEVEL 2-TASK 2:Cuisine Combination\n",
    "1.Identify the most common combinations of cuisines in the dataset.\n",
    "2.Determine if certain cuisine combinations tend to have higher ratings."
   ]
  },
  {
   "cell_type": "code",
   "execution_count": 14,
   "id": "04d16bb0-cd72-4b96-90a2-b701ccb1707a",
   "metadata": {},
   "outputs": [
    {
     "name": "stdout",
     "output_type": "stream",
     "text": [
      "   Restaurant ID                           Restaurant Name  Country Code  \\\n",
      "0        6317637                          Le Petit Souffle           162   \n",
      "1        6304287                          Izakaya Kikufuji           162   \n",
      "2        6300002                    Heat - Edsa Shangri-La           162   \n",
      "3        6318506                                      Ooma           162   \n",
      "4        6314302                               Sambo Kojin           162   \n",
      "5       18189371                              Din Tai Fung           162   \n",
      "6        6300781                                Buffet 101           162   \n",
      "7        6301290                                   Vikings           162   \n",
      "8        6300010  Spiral - Sofitel Philippine Plaza Manila           162   \n",
      "9        6314987                                  Locavore           162   \n",
      "\n",
      "               City                                            Address  \\\n",
      "0       Makati City  Third Floor, Century City Mall, Kalayaan Avenu...   \n",
      "1       Makati City  Little Tokyo, 2277 Chino Roces Avenue, Legaspi...   \n",
      "2  Mandaluyong City  Edsa Shangri-La, 1 Garden Way, Ortigas, Mandal...   \n",
      "3  Mandaluyong City  Third Floor, Mega Fashion Hall, SM Megamall, O...   \n",
      "4  Mandaluyong City  Third Floor, Mega Atrium, SM Megamall, Ortigas...   \n",
      "5  Mandaluyong City  Ground Floor, Mega Fashion Hall, SM Megamall, ...   \n",
      "6        Pasay City  Building K, SM By The Bay, Sunset Boulevard, M...   \n",
      "7        Pasay City  Building B, By The Bay, Seaside Boulevard, Mal...   \n",
      "8        Pasay City  Plaza Level, Sofitel Philippine Plaza Manila, ...   \n",
      "9        Pasig City  Brixton Technology Center, 10 Brixton Street, ...   \n",
      "\n",
      "                                          Locality  \\\n",
      "0        Century City Mall, Poblacion, Makati City   \n",
      "1       Little Tokyo, Legaspi Village, Makati City   \n",
      "2       Edsa Shangri-La, Ortigas, Mandaluyong City   \n",
      "3           SM Megamall, Ortigas, Mandaluyong City   \n",
      "4           SM Megamall, Ortigas, Mandaluyong City   \n",
      "5           SM Megamall, Ortigas, Mandaluyong City   \n",
      "6  SM by the Bay, Mall of Asia Complex, Pasay City   \n",
      "7  SM by the Bay, Mall of Asia Complex, Pasay City   \n",
      "8      Sofitel Philippine Plaza Manila, Pasay City   \n",
      "9                                        Kapitolyo   \n",
      "\n",
      "                                    Locality Verbose   Longitude   Latitude  \\\n",
      "0  Century City Mall, Poblacion, Makati City, Mak...  121.027535  14.565443   \n",
      "1  Little Tokyo, Legaspi Village, Makati City, Ma...  121.014101  14.553708   \n",
      "2  Edsa Shangri-La, Ortigas, Mandaluyong City, Ma...  121.056831  14.581404   \n",
      "3  SM Megamall, Ortigas, Mandaluyong City, Mandal...  121.056475  14.585318   \n",
      "4  SM Megamall, Ortigas, Mandaluyong City, Mandal...  121.057508  14.584450   \n",
      "5  SM Megamall, Ortigas, Mandaluyong City, Mandal...  121.056314  14.583764   \n",
      "6  SM by the Bay, Mall of Asia Complex, Pasay Cit...  120.979667  14.531333   \n",
      "7  SM by the Bay, Mall of Asia Complex, Pasay Cit...  120.979333  14.540000   \n",
      "8  Sofitel Philippine Plaza Manila, Pasay City, P...  120.980090  14.552990   \n",
      "9                              Kapitolyo, Pasig City  121.056532  14.572041   \n",
      "\n",
      "                             Cuisines  ...          Currency  \\\n",
      "0          French, Japanese, Desserts  ...  Botswana Pula(P)   \n",
      "1                            Japanese  ...  Botswana Pula(P)   \n",
      "2    Seafood, Asian, Filipino, Indian  ...  Botswana Pula(P)   \n",
      "3                     Japanese, Sushi  ...  Botswana Pula(P)   \n",
      "4                    Japanese, Korean  ...  Botswana Pula(P)   \n",
      "5                             Chinese  ...  Botswana Pula(P)   \n",
      "6                     Asian, European  ...  Botswana Pula(P)   \n",
      "7  Seafood, Filipino, Asian, European  ...  Botswana Pula(P)   \n",
      "8             European, Asian, Indian  ...  Botswana Pula(P)   \n",
      "9                            Filipino  ...  Botswana Pula(P)   \n",
      "\n",
      "  Has Table booking Has Online delivery Is delivering now  \\\n",
      "0               Yes                  No                No   \n",
      "1               Yes                  No                No   \n",
      "2               Yes                  No                No   \n",
      "3                No                  No                No   \n",
      "4               Yes                  No                No   \n",
      "5                No                  No                No   \n",
      "6               Yes                  No                No   \n",
      "7               Yes                  No                No   \n",
      "8               Yes                  No                No   \n",
      "9               Yes                  No                No   \n",
      "\n",
      "  Switch to order menu Price range  Aggregate rating  Rating color  \\\n",
      "0                   No           3               4.8    Dark Green   \n",
      "1                   No           3               4.5    Dark Green   \n",
      "2                   No           4               4.4         Green   \n",
      "3                   No           4               4.9    Dark Green   \n",
      "4                   No           4               4.8    Dark Green   \n",
      "5                   No           3               4.4         Green   \n",
      "6                   No           4               4.0         Green   \n",
      "7                   No           4               4.2         Green   \n",
      "8                   No           4               4.9    Dark Green   \n",
      "9                   No           3               4.8    Dark Green   \n",
      "\n",
      "  Rating text Votes  \n",
      "0   Excellent   314  \n",
      "1   Excellent   591  \n",
      "2   Very Good   270  \n",
      "3   Excellent   365  \n",
      "4   Excellent   229  \n",
      "5   Very Good   336  \n",
      "6   Very Good   520  \n",
      "7   Very Good   677  \n",
      "8   Excellent   621  \n",
      "9   Excellent   532  \n",
      "\n",
      "[10 rows x 21 columns]\n"
     ]
    }
   ],
   "source": [
    "print(data.head(10))"
   ]
  },
  {
   "cell_type": "code",
   "execution_count": null,
   "id": "beb3aeb7-98d8-4842-a75b-bdadc54eec33",
   "metadata": {},
   "outputs": [],
   "source": [
    "#Identify the most common combinations of cuisines in the dataset"
   ]
  },
  {
   "cell_type": "code",
   "execution_count": 15,
   "id": "a0fd73d9-c517-4ee8-b06b-aecdcc1f7d57",
   "metadata": {},
   "outputs": [
    {
     "name": "stdout",
     "output_type": "stream",
     "text": [
      "Cuisines\n",
      "North Indian                      936\n",
      "North Indian, Chinese             511\n",
      "Chinese                           354\n",
      "Fast Food                         354\n",
      "North Indian, Mughlai             334\n",
      "Cafe                              299\n",
      "Bakery                            218\n",
      "North Indian, Mughlai, Chinese    197\n",
      "Bakery, Desserts                  170\n",
      "Street Food                       149\n",
      "Name: count, dtype: int64\n"
     ]
    }
   ],
   "source": [
    "most_common_cuisines = data['Cuisines'].value_counts().head(10)\n",
    "print(most_common_cuisines)# top 10"
   ]
  },
  {
   "cell_type": "code",
   "execution_count": 16,
   "id": "f403f772-f0d0-484c-8c98-eb2512ac5e63",
   "metadata": {},
   "outputs": [
    {
     "name": "stdout",
     "output_type": "stream",
     "text": [
      "Cuisines\n",
      "Cafe, Pizza, Burger                                                       1\n",
      "Healthy Food, Continental, Juices, Beverages, Italian, Salad, Lebanese    1\n",
      "Goan, American, Portuguese                                                1\n",
      "South Indian, Desserts, Beverages                                         1\n",
      "Healthy Food, North Indian, Italian, Salad                                1\n",
      "Bengali, Fast Food                                                        1\n",
      "North Indian, Rajasthani, Asian                                           1\n",
      "Chinese, Thai, Malaysian, Indonesian                                      1\n",
      "Bakery, Desserts, North Indian, Bengali, South Indian                     1\n",
      "Italian, World Cuisine                                                    1\n",
      "Name: count, dtype: int64\n"
     ]
    }
   ],
   "source": [
    "most_common_cuisines = data['Cuisines'].value_counts().tail(10)\n",
    "print(most_common_cuisines)# bottom 10"
   ]
  },
  {
   "cell_type": "code",
   "execution_count": null,
   "id": "e012b6bd-3dfe-456d-b822-5e08146537dc",
   "metadata": {},
   "outputs": [],
   "source": [
    "# Find Average Rating for Each Cuisine Combination"
   ]
  },
  {
   "cell_type": "code",
   "execution_count": 19,
   "id": "229a2027-9974-4cc6-b898-fd2253b398cd",
   "metadata": {},
   "outputs": [
    {
     "name": "stdout",
     "output_type": "stream",
     "text": [
      "Cuisines\n",
      "Italian, Deli               4.9\n",
      "Hawaiian, Seafood           4.9\n",
      "American, Sandwich, Tea     4.9\n",
      "Continental, Indian         4.9\n",
      "European, Asian, Indian     4.9\n",
      "European, Contemporary      4.9\n",
      "European, German            4.9\n",
      "BBQ, Breakfast, Southern    4.9\n",
      "American, Coffee and Tea    4.9\n",
      "Sunda, Indonesian           4.9\n",
      "Name: Aggregate rating, dtype: float64\n"
     ]
    }
   ],
   "source": [
    "cuisine_rating = data.groupby('Cuisines')['Aggregate rating'].mean().sort_values(ascending=False)\n",
    "print(cuisine_rating.head(10))"
   ]
  },
  {
   "cell_type": "code",
   "execution_count": 21,
   "id": "ee2db4fd-5c54-4ae0-b17d-ab4a50833ee7",
   "metadata": {},
   "outputs": [
    {
     "name": "stdout",
     "output_type": "stream",
     "text": [
      "Cuisines\n",
      "Turkish, Arabian, Middle Eastern          4.30\n",
      "Turkish, Arabian, Moroccan, Lebanese      0.00\n",
      "Turkish, Mediterranean, Middle Eastern    4.30\n",
      "Vietnamese                                4.05\n",
      "Vietnamese, Fish and Chips                4.30\n",
      "Western, Asian, Cafe                      4.20\n",
      "Western, Fusion, Fast Food                3.20\n",
      "World Cuisine                             4.90\n",
      "World Cuisine, Mexican, Italian           4.40\n",
      "World Cuisine, Patisserie, Cafe           4.20\n",
      "Name: Aggregate rating, dtype: float64\n"
     ]
    }
   ],
   "source": [
    "cuisine_rating = data.groupby('Cuisines')['Aggregate rating'].mean()\n",
    "print(cuisine_rating.tail(10))"
   ]
  },
  {
   "cell_type": "code",
   "execution_count": null,
   "id": "eb4552b7-e53a-49b5-a0bf-dec5a77075d2",
   "metadata": {},
   "outputs": [],
   "source": [
    "#LEVEL 2 - TASK 3: Geographic Analysis\n",
    "1.Plot the locations of restaurants on a map using longitude and latitude coordinates.\n",
    "2.Identify any patterns or clusters of restaurants in specific areas."
   ]
  },
  {
   "cell_type": "code",
   "execution_count": null,
   "id": "6c5bfde8-7d4d-4c72-943d-eeb21f0a5301",
   "metadata": {},
   "outputs": [],
   "source": [
    "#Plot the locations of restaurants on a map using longitude and latitude coordinates."
   ]
  },
  {
   "cell_type": "code",
   "execution_count": 22,
   "id": "bf5469dc-e862-4b75-aca8-4ef7cc8bca7f",
   "metadata": {},
   "outputs": [],
   "source": [
    "geo_data = data.dropna(subset=['Latitude', 'Longitude'])"
   ]
  },
  {
   "cell_type": "code",
   "execution_count": 24,
   "id": "112cdc8b-f2df-4764-a97d-3a20b152e2ab",
   "metadata": {},
   "outputs": [
    {
     "data": {
      "image/png": "[encoded data removed]",
      "text/plain": [
       "<Figure size 1000x800 with 1 Axes>"
      ]
     },
     "metadata": {},
     "output_type": "display_data"
    }
   ],
   "source": [
    "import matplotlib.pyplot as plt\n",
    "plt.figure(figsize=(10,8))\n",
    "plt.scatter(geo_data['Longitude'], geo_data['Latitude'], alpha=0.5, c='orange')\n",
    "plt.title('Restaurant Locations')\n",
    "plt.xlabel('Longitude')\n",
    "plt.ylabel('Latitude')\n",
    "plt.show()"
   ]
  },
  {
   "cell_type": "code",
   "execution_count": null,
   "id": "1f568a82-d923-4244-b8ba-2b6acf6f1471",
   "metadata": {},
   "outputs": [],
   "source": [
    "#Identify any patterns or clusters of restaurants in specific areas.\n",
    "#After plotting restaurant locations, clear clusters were observed in central city areas,indicating high restaurant density in urban and commercial regions.The density of restaurants decreases as we move towards suburban and rural areas, showing that restaurants are primarily located in busy, high-traffic zones.A few isolated restaurants exist outside the main clusters, possibly catering to residential or remote areas"
   ]
  },
  {
   "cell_type": "code",
   "execution_count": null,
   "id": "282fe54d-4fd6-4a84-ac7c-c94dc57f9237",
   "metadata": {},
   "outputs": [],
   "source": [
    "#LEVEL 2 - TASK 4: Restaurant Chains\n",
    "1.Identify if there are any restaurant chains present in the dataset.\n",
    "2.Analyze the ratings and popularity of different restaurant chains."
   ]
  },
  {
   "cell_type": "code",
   "execution_count": 29,
   "id": "73e4fba2-8ad2-4a39-a86b-128585eaa8d7",
   "metadata": {},
   "outputs": [
    {
     "name": "stdout",
     "output_type": "stream",
     "text": [
      "   Restaurant ID         Restaurant Name  Country Code              City  \\\n",
      "0        6317637        Le Petit Souffle           162       Makati City   \n",
      "1        6304287        Izakaya Kikufuji           162       Makati City   \n",
      "2        6300002  Heat - Edsa Shangri-La           162  Mandaluyong City   \n",
      "3        6318506                    Ooma           162  Mandaluyong City   \n",
      "4        6314302             Sambo Kojin           162  Mandaluyong City   \n",
      "\n",
      "                                             Address  \\\n",
      "0  Third Floor, Century City Mall, Kalayaan Avenu...   \n",
      "1  Little Tokyo, 2277 Chino Roces Avenue, Legaspi...   \n",
      "2  Edsa Shangri-La, 1 Garden Way, Ortigas, Mandal...   \n",
      "3  Third Floor, Mega Fashion Hall, SM Megamall, O...   \n",
      "4  Third Floor, Mega Atrium, SM Megamall, Ortigas...   \n",
      "\n",
      "                                     Locality  \\\n",
      "0   Century City Mall, Poblacion, Makati City   \n",
      "1  Little Tokyo, Legaspi Village, Makati City   \n",
      "2  Edsa Shangri-La, Ortigas, Mandaluyong City   \n",
      "3      SM Megamall, Ortigas, Mandaluyong City   \n",
      "4      SM Megamall, Ortigas, Mandaluyong City   \n",
      "\n",
      "                                    Locality Verbose   Longitude   Latitude  \\\n",
      "0  Century City Mall, Poblacion, Makati City, Mak...  121.027535  14.565443   \n",
      "1  Little Tokyo, Legaspi Village, Makati City, Ma...  121.014101  14.553708   \n",
      "2  Edsa Shangri-La, Ortigas, Mandaluyong City, Ma...  121.056831  14.581404   \n",
      "3  SM Megamall, Ortigas, Mandaluyong City, Mandal...  121.056475  14.585318   \n",
      "4  SM Megamall, Ortigas, Mandaluyong City, Mandal...  121.057508  14.584450   \n",
      "\n",
      "                           Cuisines  ...          Currency Has Table booking  \\\n",
      "0        French, Japanese, Desserts  ...  Botswana Pula(P)               Yes   \n",
      "1                          Japanese  ...  Botswana Pula(P)               Yes   \n",
      "2  Seafood, Asian, Filipino, Indian  ...  Botswana Pula(P)               Yes   \n",
      "3                   Japanese, Sushi  ...  Botswana Pula(P)                No   \n",
      "4                  Japanese, Korean  ...  Botswana Pula(P)               Yes   \n",
      "\n",
      "  Has Online delivery Is delivering now Switch to order menu Price range  \\\n",
      "0                  No                No                   No           3   \n",
      "1                  No                No                   No           3   \n",
      "2                  No                No                   No           4   \n",
      "3                  No                No                   No           4   \n",
      "4                  No                No                   No           4   \n",
      "\n",
      "   Aggregate rating  Rating color Rating text Votes  \n",
      "0               4.8    Dark Green   Excellent   314  \n",
      "1               4.5    Dark Green   Excellent   591  \n",
      "2               4.4         Green   Very Good   270  \n",
      "3               4.9    Dark Green   Excellent   365  \n",
      "4               4.8    Dark Green   Excellent   229  \n",
      "\n",
      "[5 rows x 21 columns]\n",
      "      Restaurant ID           Restaurant Name  Country Code       City  \\\n",
      "9546        5915730               Naml۱ Gurme           208  ��stanbul   \n",
      "9547        5908749              Ceviz A��ac۱           208  ��stanbul   \n",
      "9548        5915807                     Huqqa           208  ��stanbul   \n",
      "9549        5916112               A���k Kahve           208  ��stanbul   \n",
      "9550        5927402  Walter's Coffee Roastery           208  ��stanbul   \n",
      "\n",
      "                                                Address     Locality  \\\n",
      "9546  Kemanke�� Karamustafa Pa��a Mahallesi, R۱ht۱m ...     Karak�_y   \n",
      "9547  Ko��uyolu Mahallesi, Muhittin ��st�_nda�� Cadd...    Ko��uyolu   \n",
      "9548  Kuru�_e��me Mahallesi, Muallim Naci Caddesi, N...  Kuru�_e��me   \n",
      "9549  Kuru�_e��me Mahallesi, Muallim Naci Caddesi, N...  Kuru�_e��me   \n",
      "9550  Cafea��a Mahallesi, Bademalt۱ Sokak, No 21/B, ...         Moda   \n",
      "\n",
      "            Locality Verbose  Longitude   Latitude  \\\n",
      "9546     Karak�_y, ��stanbul  28.977392  41.022793   \n",
      "9547    Ko��uyolu, ��stanbul  29.041297  41.009847   \n",
      "9548  Kuru�_e��me, ��stanbul  29.034640  41.055817   \n",
      "9549  Kuru�_e��me, ��stanbul  29.036019  41.057979   \n",
      "9550         Moda, ��stanbul  29.026016  40.984776   \n",
      "\n",
      "                             Cuisines  ...          Currency  \\\n",
      "9546                          Turkish  ...  Turkish Lira(TL)   \n",
      "9547  World Cuisine, Patisserie, Cafe  ...  Turkish Lira(TL)   \n",
      "9548           Italian, World Cuisine  ...  Turkish Lira(TL)   \n",
      "9549                  Restaurant Cafe  ...  Turkish Lira(TL)   \n",
      "9550                             Cafe  ...  Turkish Lira(TL)   \n",
      "\n",
      "     Has Table booking Has Online delivery Is delivering now  \\\n",
      "9546                No                  No                No   \n",
      "9547                No                  No                No   \n",
      "9548                No                  No                No   \n",
      "9549                No                  No                No   \n",
      "9550                No                  No                No   \n",
      "\n",
      "     Switch to order menu Price range  Aggregate rating  Rating color  \\\n",
      "9546                   No           3               4.1         Green   \n",
      "9547                   No           3               4.2         Green   \n",
      "9548                   No           4               3.7        Yellow   \n",
      "9549                   No           4               4.0         Green   \n",
      "9550                   No           2               4.0         Green   \n",
      "\n",
      "     Rating text Votes  \n",
      "9546   Very Good   788  \n",
      "9547   Very Good  1034  \n",
      "9548        Good   661  \n",
      "9549   Very Good   901  \n",
      "9550   Very Good   591  \n",
      "\n",
      "[5 rows x 21 columns]\n"
     ]
    }
   ],
   "source": [
    "print(data.head(5))\n",
    "print(data.tail(5))"
   ]
  },
  {
   "cell_type": "code",
   "execution_count": null,
   "id": "3cec73c0-b48d-438a-92f5-8d33c1a31199",
   "metadata": {},
   "outputs": [],
   "source": [
    "#Identify if there are any restaurant chains present in the dataset."
   ]
  },
  {
   "cell_type": "code",
   "execution_count": 27,
   "id": "802b211a-4dde-4a0e-ac38-2a8e4694d151",
   "metadata": {},
   "outputs": [
    {
     "name": "stdout",
     "output_type": "stream",
     "text": [
      "Restaurant Chains: Restaurant Name\n",
      "Cafe Coffee Day       83\n",
      "Domino's Pizza        79\n",
      "Subway                63\n",
      "Green Chick Chop      51\n",
      "McDonald's            48\n",
      "                      ..\n",
      "Town Hall              2\n",
      "Halki Aanch            2\n",
      "Snack Junction         2\n",
      "Delhi Biryani Hut      2\n",
      "Beliram Degchiwala     2\n",
      "Name: count, Length: 734, dtype: int64\n"
     ]
    }
   ],
   "source": [
    "chain_restaurants = data['Restaurant Name'].value_counts()\n",
    "chains = chain_restaurants[chain_restaurants > 1]\n",
    "print(\"Restaurant Chains:\", chains)"
   ]
  },
  {
   "cell_type": "code",
   "execution_count": 31,
   "id": "78d87eee-80b8-4c1a-876c-d0af56a5f2bb",
   "metadata": {},
   "outputs": [],
   "source": [
    "#Analyze the ratings and popularity of different restaurant chains."
   ]
  },
  {
   "cell_type": "code",
   "execution_count": 30,
   "id": "9bff2903-e00f-44ed-89f8-0e7be289894b",
   "metadata": {},
   "outputs": [
    {
     "name": "stdout",
     "output_type": "stream",
     "text": [
      "                                 Aggregate rating   Votes\n",
      "Restaurant Name                                          \n",
      "Talaga Sampireun                            4.900  1838.0\n",
      "Silantro Fil-Mex                            4.850   682.0\n",
      "AB's Absolute Barbecues                     4.850  1575.5\n",
      "AB's - Absolute Barbecues                   4.825  3350.0\n",
      "Naturals Ice Cream                          4.800  1547.0\n",
      "...                                           ...     ...\n",
      "Big Biryani                                 0.000     0.5\n",
      "Flavours Kitchen                            0.000     1.5\n",
      "Anand Sweets                                0.000     1.5\n",
      "Radha Swami Shudh Vaishno Dhaba             0.000     2.0\n",
      "OCD - Online Cake Delivery                  0.000     1.0\n",
      "\n",
      "[734 rows x 2 columns]\n"
     ]
    }
   ],
   "source": [
    "chain_data = data[data['Restaurant Name'].isin(chains.index)]\n",
    "chain_analysis = chain_data.groupby('Restaurant Name')[['Aggregate rating', 'Votes']].mean().sort_values(by='Aggregate rating', ascending=False)\n",
    "print(chain_analysis)"
   ]
  },
  {
   "cell_type": "code",
   "execution_count": null,
   "id": "4a54a3ac-a71a-4d57-9474-4b2808207468",
   "metadata": {},
   "outputs": [],
   "source": []
  }
 ],
 "metadata": {
  "kernelspec": {
   "display_name": "Python 3 (ipykernel)",
   "language": "python",
   "name": "python3"
  },
  "language_info": {
   "codemirror_mode": {
    "name": "ipython",
    "version": 3
   },
   "file_extension": ".py",
   "mimetype": "text/x-python",
   "name": "python",
   "nbconvert_exporter": "python",
   "pygments_lexer": "ipython3",
   "version": "3.12.7"
  }
 },
 "nbformat": 4,
 "nbformat_minor": 5
}
