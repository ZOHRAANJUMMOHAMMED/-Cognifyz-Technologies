{
 "cells": [
  {
   "cell_type": "code",
   "execution_count": 1,
   "id": "57dffe81-5bc7-44a9-b118-e2dc81704a83",
   "metadata": {},
   "outputs": [],
   "source": [
    "#Level 1:Task 1-Top Cuisines"
   ]
  },
  {
   "cell_type": "code",
   "execution_count": 2,
   "id": "a2a2baa2-0284-423b-bbb8-dcedc28faa68",
   "metadata": {},
   "outputs": [],
   "source": [
    "import pandas as pd\n",
    "import matplotlib.pyplot as plt\n",
    "data = pd.read_csv(r\"C:\\Users\\moham\\Downloads\\Dataset .csv\")  "
   ]
  },
  {
   "cell_type": "code",
   "execution_count": 3,
   "id": "01bcb084-37f7-468c-96a1-6a51e052e958",
   "metadata": {
    "panel-layout": {
     "height": 0,
     "visible": true,
     "width": 100
    }
   },
   "outputs": [
    {
     "name": "stdout",
     "output_type": "stream",
     "text": [
      "0          French, Japanese, Desserts\n",
      "1                            Japanese\n",
      "2    Seafood, Asian, Filipino, Indian\n",
      "Name: Cuisines, dtype: object\n"
     ]
    }
   ],
   "source": [
    "print(data['Cuisines'].head(3))"
   ]
  },
  {
   "cell_type": "code",
   "execution_count": 4,
   "id": "142cbab2-b45a-40ab-adf3-0f2ba7ce52b0",
   "metadata": {
    "panel-layout": {
     "height": 0,
     "visible": true,
     "width": 100
    }
   },
   "outputs": [
    {
     "name": "stdout",
     "output_type": "stream",
     "text": [
      "Cuisines\n",
      "North Indian    3960\n",
      "Chinese         2735\n",
      "Fast Food       1986\n",
      "Name: count, dtype: int64\n"
     ]
    }
   ],
   "source": [
    "#Determine the top three most common cuisines in the data\n",
    "cuisines = data['Cuisines'].str.split(', ').explode()\n",
    "top_cuisines = cuisines.value_counts().head(3)\n",
    "print(top_cuisines)"
   ]
  },
  {
   "cell_type": "code",
   "execution_count": 5,
   "id": "538e608e-eb0b-45db-b05f-46e4caff73ff",
   "metadata": {},
   "outputs": [
    {
     "name": "stdout",
     "output_type": "stream",
     "text": [
      "North Indian: 41.46% of restaurants\n",
      "Chinese: 28.64% of restaurants\n",
      "Fast Food: 20.79% of restaurants\n"
     ]
    }
   ],
   "source": [
    "#calculate the percentage of restaurants that serve each of the top cuisines.\n",
    "total = len(data)\n",
    "for cuisine, count in top_cuisines.items():\n",
    "    percent = (count / total) * 100\n",
    "    print(f\"{cuisine}: {percent:.2f}% of restaurants\")"
   ]
  },
  {
   "cell_type": "code",
   "execution_count": 6,
   "id": "88879c8e-1f17-4edd-8609-99074c4a4be5",
   "metadata": {},
   "outputs": [],
   "source": [
    "#Level 1:Task 2-City Analysis"
   ]
  },
  {
   "cell_type": "code",
   "execution_count": 7,
   "id": "68faac14-6872-46fd-a5fb-cc36e4a29afb",
   "metadata": {
    "panel-layout": {
     "height": 0,
     "visible": true,
     "width": 100
    }
   },
   "outputs": [
    {
     "name": "stdout",
     "output_type": "stream",
     "text": [
      "City with most restaurants: New Delhi\n"
     ]
    }
   ],
   "source": [
    "top_city = data['City'].value_counts().idxmax()\n",
    "print(\"City with most restaurants:\", top_city)"
   ]
  },
  {
   "cell_type": "code",
   "execution_count": 8,
   "id": "171fdb2a-bb7c-40fa-a18d-c6c5ba359bfb",
   "metadata": {},
   "outputs": [],
   "source": [
    "#Calculate the average rating for restaurants in each city.\n",
    "data = data.dropna(subset=['City', 'Aggregate rating'])\n",
    "avg_ratings = data.groupby('City')['Aggregate rating'].mean()"
   ]
  },
  {
   "cell_type": "code",
   "execution_count": 9,
   "id": "d800903e-97e8-4424-b741-6535b5f71491",
   "metadata": {
    "panel-layout": {
     "height": 0,
     "visible": true,
     "width": 100
    }
   },
   "outputs": [
    {
     "name": "stdout",
     "output_type": "stream",
     "text": [
      "City with highest average rating: Inner City\n"
     ]
    }
   ],
   "source": [
    "#Determine the city with the highest average rating.\n",
    "best_city = avg_ratings.idxmax()\n",
    "print(\"City with highest average rating:\", best_city)"
   ]
  },
  {
   "cell_type": "code",
   "execution_count": 10,
   "id": "158bf52c-9910-44c6-9877-c59797a524f3",
   "metadata": {},
   "outputs": [],
   "source": [
    "#Level 1:Task 3-Price Range Distribution"
   ]
  },
  {
   "cell_type": "code",
   "execution_count": null,
   "id": "7baab404-a85f-4ec5-bdad-d80521ececdb",
   "metadata": {},
   "outputs": [],
   "source": [
    "data = data.dropna(subset=['Price range'])"
   ]
  },
  {
   "cell_type": "code",
   "execution_count": null,
   "id": "1bfa4665-6eaf-4669-aecc-e66d01460ce2",
   "metadata": {},
   "outputs": [],
   "source": [
    "data['Price range'] = data['Price range'].astype(int)\n",
    "price_counts = data['Price range'].value_counts().sort_index()"
   ]
  },
  {
   "cell_type": "code",
   "execution_count": null,
   "id": "ff0de0f4-96e9-4a0c-bcbc-e43131a72b97",
   "metadata": {},
   "outputs": [],
   "source": [
    "price_percent = (price_counts / len(data)) * 100\n",
    "print(\"Percentage of restaurants in each price range:\")\n",
    "print(price_percent.round(2))\n"
   ]
  },
  {
   "cell_type": "code",
   "execution_count": 15,
   "id": "2397dd85-d828-4fef-8a05-020feba2911f",
   "metadata": {},
   "outputs": [
    {
     "data": {
      "image/png": "[encoded data removed]",
      "text/plain": [
       "<Figure size 640x480 with 1 Axes>"
      ]
     },
     "metadata": {},
     "output_type": "display_data"
    }
   ],
   "source": [
    "#Create a histogram or bar chart to visualize the distribution of price ranges among the restaurants.\n",
    "price_counts.plot(kind='bar', color='green', edgecolor='black')\n",
    "plt.title(\"Price Range Distribution\")\n",
    "plt.xlabel(\"Price Range\")\n",
    "plt.ylabel(\"Number of Restaurants\")\n",
    "plt.xticks(rotation=0)\n",
    "plt.grid(axis='y', linestyle='--', alpha=0.7)\n",
    "plt.tight_layout()\n",
    "plt.show()\n"
   ]
  },
  {
   "cell_type": "code",
   "execution_count": 16,
   "id": "2cbf7f2a-2d73-450d-85ba-5d0490e361f5",
   "metadata": {
    "panel-layout": {
     "height": 701,
     "visible": true,
     "width": 100
    }
   },
   "outputs": [
    {
     "name": "stdout",
     "output_type": "stream",
     "text": [
      "Percentage of restaurants in each price range:\n",
      "Price range\n",
      "1    46.53\n",
      "2    32.59\n",
      "3    14.74\n",
      "4     6.14\n",
      "Name: count, dtype: float64\n"
     ]
    }
   ],
   "source": [
    "#Calculate the percentage of restaurants in each price range category.\n",
    "price_percent = (price_counts / len(data)) * 100\n",
    "print(\"Percentage of restaurants in each price range:\")\n",
    "print(price_percent.round(2))"
   ]
  },
  {
   "cell_type": "code",
   "execution_count": 17,
   "id": "7d662002-c0f3-48fb-b398-7e9e429e08ad",
   "metadata": {},
   "outputs": [],
   "source": [
    "data = data.dropna(subset=['Has Online delivery', 'Aggregate rating'])\n",
    "data['Aggregate rating'] = pd.to_numeric(data['Aggregate rating'], errors='coerce')\n"
   ]
  },
  {
   "cell_type": "code",
   "execution_count": 18,
   "id": "455fb856-dc30-416c-9da1-d3d58008f10e",
   "metadata": {},
   "outputs": [
    {
     "name": "stdout",
     "output_type": "stream",
     "text": [
      "9551\n"
     ]
    }
   ],
   "source": [
    "#Determine the percentage of restaurants that offer online delivery.\n",
    "online_delivery_counts = data['Has Online delivery'].value_counts()\n",
    "total = online_delivery_counts.sum()\n",
    "print(total)"
   ]
  },
  {
   "cell_type": "code",
   "execution_count": 19,
   "id": "2b38ec98-65ee-4af5-b8c2-8b35fd93ab9d",
   "metadata": {},
   "outputs": [
    {
     "name": "stdout",
     "output_type": "stream",
     "text": [
      "Percentage of restaurants that offer online delivery: 25.66%\n"
     ]
    }
   ],
   "source": [
    "online_percent = (online_delivery_counts.get('Yes', 0) / total) * 100\n",
    "print(f\"Percentage of restaurants that offer online delivery: {online_percent:.2f}%\")"
   ]
  },
  {
   "cell_type": "code",
   "execution_count": 20,
   "id": "5e6748ac-7cff-4f6d-99b8-24012abe8382",
   "metadata": {},
   "outputs": [],
   "source": [
    "#Compare the average ratings of restaurants with and without online delivery.\n",
    "avg_rating_online = data[data['Has Online delivery'] == 'Yes']['Aggregate rating'].mean()\n",
    "avg_rating_offline = data[data['Has Online delivery'] == 'No']['Aggregate rating'].mean()"
   ]
  },
  {
   "cell_type": "code",
   "execution_count": 21,
   "id": "c9d191b0-6f57-4f1e-bb3a-60edb7dd1ab3",
   "metadata": {},
   "outputs": [
    {
     "name": "stdout",
     "output_type": "stream",
     "text": [
      "Average rating (online delivery): 3.25\n",
      "Average rating (no online delivery): 2.47\n"
     ]
    }
   ],
   "source": [
    "print(f\"Average rating (online delivery): {avg_rating_online:.2f}\")\n",
    "print(f\"Average rating (no online delivery): {avg_rating_offline:.2f}\")"
   ]
  },
  {
   "cell_type": "code",
   "execution_count": null,
   "id": "ee008f0a-99bc-41b6-9da7-1550b211a3c3",
   "metadata": {},
   "outputs": [],
   "source": []
  }
 ],
 "metadata": {
  "kernelspec": {
   "display_name": "Python 3 (ipykernel)",
   "language": "python",
   "name": "python3"
  },
  "language_info": {
   "codemirror_mode": {
    "name": "ipython",
    "version": 3
   },
   "file_extension": ".py",
   "mimetype": "text/x-python",
   "name": "python",
   "nbconvert_exporter": "python",
   "pygments_lexer": "ipython3",
   "version": "3.12.7"
  },
  "panel-cell-order": [
   "01bcb084-37f7-468c-96a1-6a51e052e958",
   "142cbab2-b45a-40ab-adf3-0f2ba7ce52b0",
   "68faac14-6872-46fd-a5fb-cc36e4a29afb",
   "d800903e-97e8-4424-b741-6535b5f71491",
   "d613de0a-2d27-4764-b00f-2fd3d36eef27",
   "2cbf7f2a-2d73-450d-85ba-5d0490e361f5"
  ]
 },
 "nbformat": 4,
 "nbformat_minor": 5
}
